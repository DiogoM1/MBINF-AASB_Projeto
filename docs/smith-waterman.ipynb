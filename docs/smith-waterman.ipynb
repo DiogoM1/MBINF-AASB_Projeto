{
 "cells": [
  {
   "cell_type": "markdown",
   "source": [
    "# Algoritmo de Smith Waterman\n",
    "\n",
    "## Introdução\n",
    "\n",
    "Este é um algoritmo de alinhamento local que vai produzir diversos alinhamentos locais possiveis para duas sequências biológicas fornecidas.\n",
    "As etapas principais deste metodo são a criação de uma matrix S, a identificação dos indices dos valores máximos e finalmente a realização do *traceback* apartir desses indexes.\n",
    "\n",
    "## Funcionamento\n",
    "\n",
    "Para efeitos de demonstração serão usadas as sequências utilizadas nas aulas de AASB:\n",
    "\n",
    "- sequência a: PHSWG\n",
    "- sequência b: HGWAG\n",
    "\n",
    "Além disso temos que cada ponto da matriz terá como suas coordenadas index[a][b],\n",
    "\n",
    "Finalmente assumimos que estamos a lidar com uma penalização por espaços linear.\n",
    "\n",
    "### Formação de matriz S\n",
    "\n",
    "A Ideia por detrás do calculo de cada ponto da matrix é simples. Para cada ponto é determinado o maior valor entre as seguintes 4 opções:\n",
    "\n",
    "- Valor imediatamente a cima ( index[a-1][b] ) mais o valor de penalização de um espaço\n",
    "- Valor da diagonal ( index[a-1][b-1] ) mais o valor da score da substituição dos dois aminoácidos\n",
    "- Valor da esquerda ( index[a][b-1] ) mais o valor de penalização de um espaço\n",
    "- 0, este impede a existência de números negativos e indica o reinicio do alinhamento.\n",
    "\n",
    "Como esquematizado a seguir:\n",
    "\n",
    "| D | C |\n",
    "|---|---|\n",
    "| E | 0 |\n",
    "\n",
    "Este conjunto de regras acaba por não ser aplicavél nas 3 seguintes situações:\n",
    "\n",
    "- O valor de index[0][0] que como não tem D,C ou E e como representa o alinhamento de dois espaços, ou seja nada é 0\n",
    "- A primeira linha onde como não existe diagonal ou cima, e então deve o máximo entre o valor da *esquerda + espaço* e 0, sendo normalmente 0.\n",
    "- A primeira coluna onde como não existe diagonal ou esquerda, e então deve o máximo entre o valor de *cima + espaço* e 0, sendo normalmente 0.\n",
    "\n",
    "* a matriz apresenta as coordenadas [a][b] como nº de linha e coluna, não confundir com os valores calculados*"
   ],
   "metadata": {
    "collapsed": false,
    "pycharm": {
     "name": "#%% md\n"
    }
   }
  },
  {
   "cell_type": "code",
   "execution_count": 9,
   "metadata": {
    "collapsed": true
   },
   "outputs": [
    {
     "data": {
      "text/plain": "   0  1  2   3   4   5\n0  0  0  0   0   0   0\n1  0  0  0   0   0   0\n2  0  8  0   0   0   0\n3  0  0  8   0   1   0\n4  0  0  0  19  11   3\n5  0  0  6  11  19  17",
      "text/html": "<div>\n<style scoped>\n    .dataframe tbody tr th:only-of-type {\n        vertical-align: middle;\n    }\n\n    .dataframe tbody tr th {\n        vertical-align: top;\n    }\n\n    .dataframe thead th {\n        text-align: right;\n    }\n</style>\n<table border=\"1\" class=\"dataframe\">\n  <thead>\n    <tr style=\"text-align: right;\">\n      <th></th>\n      <th>0</th>\n      <th>1</th>\n      <th>2</th>\n      <th>3</th>\n      <th>4</th>\n      <th>5</th>\n    </tr>\n  </thead>\n  <tbody>\n    <tr>\n      <th>0</th>\n      <td>0</td>\n      <td>0</td>\n      <td>0</td>\n      <td>0</td>\n      <td>0</td>\n      <td>0</td>\n    </tr>\n    <tr>\n      <th>1</th>\n      <td>0</td>\n      <td>0</td>\n      <td>0</td>\n      <td>0</td>\n      <td>0</td>\n      <td>0</td>\n    </tr>\n    <tr>\n      <th>2</th>\n      <td>0</td>\n      <td>8</td>\n      <td>0</td>\n      <td>0</td>\n      <td>0</td>\n      <td>0</td>\n    </tr>\n    <tr>\n      <th>3</th>\n      <td>0</td>\n      <td>0</td>\n      <td>8</td>\n      <td>0</td>\n      <td>1</td>\n      <td>0</td>\n    </tr>\n    <tr>\n      <th>4</th>\n      <td>0</td>\n      <td>0</td>\n      <td>0</td>\n      <td>19</td>\n      <td>11</td>\n      <td>3</td>\n    </tr>\n    <tr>\n      <th>5</th>\n      <td>0</td>\n      <td>0</td>\n      <td>6</td>\n      <td>11</td>\n      <td>19</td>\n      <td>17</td>\n    </tr>\n  </tbody>\n</table>\n</div>"
     },
     "execution_count": 9,
     "metadata": {},
     "output_type": "execute_result"
    }
   ],
   "source": [
    "import sequencinator.aln_sw\n",
    "import sequencinator.aln as aln\n",
    "import sequencinator.matrix_tools\n",
    "import pandas as pd\n",
    "\n",
    "seq_a =\"PHSWG\"\n",
    "seq_b =\"HGWAG\"\n",
    "espaco = -8\n",
    "\n",
    "sw_matrix = sequencinator.aln_sw(seq_a=seq_a,seq_b=seq_b,spc_cost=espaco)\n",
    "pd.DataFrame(sw_matrix)\n"
   ]
  },
  {
   "cell_type": "markdown",
   "source": [
    "### Determinação dos máximos e os seus indices\n",
    "\n",
    "Inicialmente deve ser determinado o valor máximo da matriz, que no exemplo anterior é 19"
   ],
   "metadata": {
    "collapsed": false,
    "pycharm": {
     "name": "#%% md\n"
    }
   }
  },
  {
   "cell_type": "code",
   "execution_count": 10,
   "outputs": [
    {
     "name": "stdout",
     "output_type": "stream",
     "text": [
      "19\n"
     ]
    }
   ],
   "source": [
    "print(sequencinator.matrix_tools.max_matrix(sw_matrix))"
   ],
   "metadata": {
    "collapsed": false,
    "pycharm": {
     "name": "#%%\n"
    }
   }
  },
  {
   "cell_type": "markdown",
   "source": [
    "De seguidade devem ser determinados os indexes da matriz que cujo valor seja igual a este.\n",
    "\n",
    "***Nota: Na sessão de estudo foi de forma errada afirmada que bastava determinar o ultimo valor máximo***"
   ],
   "metadata": {
    "collapsed": false,
    "pycharm": {
     "name": "#%% md\n"
    }
   }
  },
  {
   "cell_type": "code",
   "execution_count": 11,
   "outputs": [
    {
     "name": "stdout",
     "output_type": "stream",
     "text": [
      "[(4, 3), (5, 4)]\n"
     ]
    }
   ],
   "source": [
    "print(sequencinator.matrix_tools.find_all_max(sw_matrix))"
   ],
   "metadata": {
    "collapsed": false,
    "pycharm": {
     "name": "#%%\n"
    }
   }
  },
  {
   "cell_type": "markdown",
   "source": [
    "### *Traceback*\n",
    "\n",
    "Chegou agora o momento de fazer o traceback e que nos vai fornecer os alinhamentos locais possiveis em que o mérito individual é igual ao ao mérito máximo (como determinado no ponto anterior)\n",
    "\n",
    "A função de traceback irá determinar por ordem de desempate se é possivél chegar ao valor da célula Diagonal, Cima ou Esquerda pelo processo reverso aquele do primeiro ponto. caso o valor da célula seja 0 então irá parar o traceback."
   ],
   "metadata": {
    "collapsed": false,
    "pycharm": {
     "name": "#%% md\n"
    }
   }
  },
  {
   "cell_type": "code",
   "execution_count": 12,
   "outputs": [
    {
     "data": {
      "text/plain": "   0  1  2  3  4  5\n0  R  R  R  R  R  R\n1  R  R  R  R  R  R\n2  R  D  R  R  R  R\n3  R  R  D  R  D  R\n4  R  R  R  D  E  E\n5  R  R  D  C  D  D",
      "text/html": "<div>\n<style scoped>\n    .dataframe tbody tr th:only-of-type {\n        vertical-align: middle;\n    }\n\n    .dataframe tbody tr th {\n        vertical-align: top;\n    }\n\n    .dataframe thead th {\n        text-align: right;\n    }\n</style>\n<table border=\"1\" class=\"dataframe\">\n  <thead>\n    <tr style=\"text-align: right;\">\n      <th></th>\n      <th>0</th>\n      <th>1</th>\n      <th>2</th>\n      <th>3</th>\n      <th>4</th>\n      <th>5</th>\n    </tr>\n  </thead>\n  <tbody>\n    <tr>\n      <th>0</th>\n      <td>R</td>\n      <td>R</td>\n      <td>R</td>\n      <td>R</td>\n      <td>R</td>\n      <td>R</td>\n    </tr>\n    <tr>\n      <th>1</th>\n      <td>R</td>\n      <td>R</td>\n      <td>R</td>\n      <td>R</td>\n      <td>R</td>\n      <td>R</td>\n    </tr>\n    <tr>\n      <th>2</th>\n      <td>R</td>\n      <td>D</td>\n      <td>R</td>\n      <td>R</td>\n      <td>R</td>\n      <td>R</td>\n    </tr>\n    <tr>\n      <th>3</th>\n      <td>R</td>\n      <td>R</td>\n      <td>D</td>\n      <td>R</td>\n      <td>D</td>\n      <td>R</td>\n    </tr>\n    <tr>\n      <th>4</th>\n      <td>R</td>\n      <td>R</td>\n      <td>R</td>\n      <td>D</td>\n      <td>E</td>\n      <td>E</td>\n    </tr>\n    <tr>\n      <th>5</th>\n      <td>R</td>\n      <td>R</td>\n      <td>D</td>\n      <td>C</td>\n      <td>D</td>\n      <td>D</td>\n    </tr>\n  </tbody>\n</table>\n</div>"
     },
     "execution_count": 12,
     "metadata": {},
     "output_type": "execute_result"
    }
   ],
   "source": [
    "sw_matrix_origin = sequencinator.aln_sw_origin(seq_a=seq_a,seq_b=seq_b,spc_cost=espaco)\n",
    "pd.DataFrame(sw_matrix_origin)\n",
    "\n",
    "print(\"Nesta matriz R indica que o alinhamento foi reinicado ou seja o valor é 0\")"
   ],
   "metadata": {
    "collapsed": false,
    "pycharm": {
     "name": "#%%\n"
    }
   }
  },
  {
   "cell_type": "markdown",
   "source": [
    "Assim que determinda a origem, e sendo uma operação dinámica, a função deverá determinar a 'origem' das origens até parar.\n",
    "\n",
    "Esta operação é por natureza iterativa (implementada por compreensão lista por exemplo) para uma lista de todos os indexes determindados no ponto anterior."
   ],
   "metadata": {
    "collapsed": false,
    "pycharm": {
     "name": "#%% md\n"
    }
   }
  },
  {
   "cell_type": "code",
   "execution_count": 21,
   "outputs": [
    {
     "name": "stdout",
     "output_type": "stream",
     "text": [
      "Alinhamento 1\n",
      "HSW\n",
      "HGW\n",
      "Alinhamento 2\n",
      "HSWG\n",
      "HGWA\n"
     ]
    }
   ],
   "source": [
    "alns = sequencinator.aln_sw_traceback(seq_a=seq_a,seq_b=seq_b,spc_cost=espaco)\n",
    "\n",
    "# fancy print function\n",
    "for aln in range(len(alns)):\n",
    "    print(\"Alinhamento {0}\".format(aln+1))\n",
    "    print(alns[aln][0])\n",
    "    print(alns[aln][1])"
   ],
   "metadata": {
    "collapsed": false,
    "pycharm": {
     "name": "#%%\n"
    }
   }
  }
 ],
 "metadata": {
  "kernelspec": {
   "display_name": "Python 3",
   "language": "python",
   "name": "python3"
  },
  "language_info": {
   "codemirror_mode": {
    "name": "ipython",
    "version": 2
   },
   "file_extension": ".py",
   "mimetype": "text/x-python",
   "name": "python",
   "nbconvert_exporter": "python",
   "pygments_lexer": "ipython2",
   "version": "2.7.6"
  }
 },
 "nbformat": 4,
 "nbformat_minor": 0
}